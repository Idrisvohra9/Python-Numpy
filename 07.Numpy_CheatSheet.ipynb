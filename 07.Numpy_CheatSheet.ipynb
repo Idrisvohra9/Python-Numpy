{
 "cells": [
  {
   "cell_type": "markdown",
   "id": "41ca9a8c",
   "metadata": {},
   "source": [
    "# Numpy Arrays:"
   ]
  },
  {
   "cell_type": "code",
   "execution_count": 22,
   "id": "28e9f03d",
   "metadata": {},
   "outputs": [
    {
     "name": "stdout",
     "output_type": "stream",
     "text": [
      "[0 2 4 6 8]\n",
      "[0.   0.25 0.5  0.75 1.  ]\n",
      "[[1 4]\n",
      " [2 5]\n",
      " [3 6]]\n"
     ]
    }
   ],
   "source": [
    "import numpy as np\n",
    "\n",
    "# Create a 1D array\n",
    "arr1d = np.array([1, 2, 3, 4, 5])\n",
    "\n",
    "# Create a 2D array\n",
    "arr2d = np.array([[1, 2, 3], [4, 5, 6]])\n",
    "\n",
    "# Create an array of zeros\n",
    "zeros = np.zeros((3, 4))\n",
    "\n",
    "# Create an array of ones\n",
    "ones = np.ones((2, 5))\n",
    "\n",
    "# Create an array with a range of values\n",
    "range_arr = np.arange(0, 10, 2)\n",
    "print(range_arr)\n",
    "# Create an array with evenly spaced values\n",
    "linspace_arr = np.linspace(0, 1, 5)\n",
    "\n",
    "print(linspace_arr)\n",
    "# Create a random array\n",
    "rand_arr = np.random.rand(3, 4)\n",
    "\n",
    "# Reshape an array\n",
    "arr2d_reshaped = arr2d.reshape((3, 2))\n",
    "\n",
    "# Transpose an array\n",
    "arr2d_transposed = arr2d.T\n",
    "print(arr2d_transposed)"
   ]
  },
  {
   "cell_type": "markdown",
   "id": "846d74df",
   "metadata": {},
   "source": [
    "# Array Operations:"
   ]
  },
  {
   "cell_type": "code",
   "execution_count": null,
   "id": "4b6dd888",
   "metadata": {},
   "outputs": [],
   "source": [
    "# Indexing and slicing\n",
    "arr = np.array([1, 2, 3, 4, 5])\n",
    "arr[2] # 3\n",
    "arr[1:3] # array([2, 3])\n",
    "\n",
    "# Element-wise arithmetic operations\n",
    "a = np.array([1, 2, 3])\n",
    "b = np.array([4, 5, 6])\n",
    "a + b # array([5, 7, 9])\n",
    "a - b # array([-3, -3, -3])\n",
    "a * b # array([ 4, 10, 18])\n",
    "a / b # array([0.25, 0.4 , 0.5 ])\n",
    "\n",
    "# Broadcasting\n",
    "a = np.array([1, 2, 3])\n",
    "b = 2\n",
    "a * b # array([2, 4, 6])\n",
    "\n",
    "# Dot product\n",
    "a = np.array([1, 2, 3])\n",
    "b = np.array([4, 5, 6])\n",
    "# print(4*)\n",
    "np.dot(a, b) # 32\n"
   ]
  },
  {
   "cell_type": "markdown",
   "id": "65f6c507",
   "metadata": {},
   "source": [
    "# Array Functions:"
   ]
  },
  {
   "cell_type": "code",
   "execution_count": 30,
   "id": "d8e96000",
   "metadata": {},
   "outputs": [
    {
     "ename": "TypeError",
     "evalue": "randint() got an unexpected keyword argument 'random_state'",
     "output_type": "error",
     "traceback": [
      "\u001b[1;31m---------------------------------------------------------------------------\u001b[0m",
      "\u001b[1;31mTypeError\u001b[0m                                 Traceback (most recent call last)",
      "\u001b[1;32m~\\AppData\\Local\\Temp\\ipykernel_4772\\1965626012.py\u001b[0m in \u001b[0;36m<module>\u001b[1;34m\u001b[0m\n\u001b[0;32m     12\u001b[0m \u001b[1;33m\u001b[0m\u001b[0m\n\u001b[0;32m     13\u001b[0m \u001b[1;31m# Find the most frequent value or MODE:\u001b[0m\u001b[1;33m\u001b[0m\u001b[1;33m\u001b[0m\u001b[0m\n\u001b[1;32m---> 14\u001b[1;33m \u001b[0mZ\u001b[0m \u001b[1;33m=\u001b[0m \u001b[0mnp\u001b[0m\u001b[1;33m.\u001b[0m\u001b[0mrandom\u001b[0m\u001b[1;33m.\u001b[0m\u001b[0mrandint\u001b[0m\u001b[1;33m(\u001b[0m\u001b[1;36m0\u001b[0m\u001b[1;33m,\u001b[0m\u001b[1;36m10\u001b[0m\u001b[1;33m,\u001b[0m\u001b[1;36m50\u001b[0m\u001b[1;33m,\u001b[0m \u001b[0mrandom_state\u001b[0m\u001b[1;33m=\u001b[0m\u001b[1;36m10\u001b[0m\u001b[1;33m)\u001b[0m\u001b[1;33m\u001b[0m\u001b[1;33m\u001b[0m\u001b[0m\n\u001b[0m\u001b[0;32m     15\u001b[0m \u001b[0mprint\u001b[0m\u001b[1;33m(\u001b[0m\u001b[0mnp\u001b[0m\u001b[1;33m.\u001b[0m\u001b[0mbincount\u001b[0m\u001b[1;33m(\u001b[0m\u001b[0mZ\u001b[0m\u001b[1;33m)\u001b[0m\u001b[1;33m.\u001b[0m\u001b[0margmax\u001b[0m\u001b[1;33m(\u001b[0m\u001b[1;33m)\u001b[0m\u001b[1;33m)\u001b[0m\u001b[1;33m\u001b[0m\u001b[1;33m\u001b[0m\u001b[0m\n\u001b[0;32m     16\u001b[0m \u001b[1;33m\u001b[0m\u001b[0m\n",
      "\u001b[1;32mmtrand.pyx\u001b[0m in \u001b[0;36mnumpy.random.mtrand.RandomState.randint\u001b[1;34m()\u001b[0m\n",
      "\u001b[1;31mTypeError\u001b[0m: randint() got an unexpected keyword argument 'random_state'"
     ]
    }
   ],
   "source": [
    "# Sum, max, and min\n",
    "arr = np.array([1, 2, 3, 4, 5])\n",
    "np.sum(arr) # 15\n",
    "np.max(arr) # 5\n",
    "np.min(arr) # 1\n",
    "\n",
    "# Mean Median and standard deviation\n",
    "arr = np.array([1, 2, 3, 4, 5])\n",
    "np.mean(arr) # 3.0\n",
    "np.median(np.array([1, 2, 3, 4, 5])) # 3.0\n",
    "np.std(arr) # 1.41421356\n",
    "\n",
    "# Find the most frequent value or MODE:\n",
    "Z = np.random.randint(0,10,50)\n",
    "print(np.bincount(Z).argmax())\n",
    "\n",
    "# Transcendental functions\n",
    "arr = np.array([0, np.pi/2, np.pi])\n",
    "np.sin(arr) # array([0.00000000e+00, 1.00000000e+00, 1.22464680e-16])\n",
    "np.cos(arr) # array([ 1.000000e+00,  6.123234e-17, -1.000000e+00])\n"
   ]
  },
  {
   "cell_type": "markdown",
   "id": "171aa3e7",
   "metadata": {},
   "source": [
    "# Array Manipulation:"
   ]
  },
  {
   "cell_type": "code",
   "execution_count": 40,
   "id": "28c1ce3f",
   "metadata": {},
   "outputs": [
    {
     "name": "stdout",
     "output_type": "stream",
     "text": [
      "[1 2 3 4 5 6]\n"
     ]
    }
   ],
   "source": [
    "# Concatenate arrays\n",
    "a = np.array([1, 2, 3])\n",
    "b = np.array([4, 5, 6])\n",
    "c = np.concatenate((a, b)) # array([1, 2, 3, 4, 5, 6])\n",
    "\n",
    "# Stack arrays vertically\n",
    "a = np.array([1, 2, 3])\n",
    "b = np.array([4, 5, 6])\n",
    "c = np.vstack((a, b)) # array([[1, 2, 3], [4, 5, 6]])\n",
    "\n",
    "# Stack arrays horizontally\n",
    "a = np.array([1, 2, 3])\n",
    "b = np.array([4, 5, 6])\n",
    "c = np.hstack((a, b)) # array([1, 2, 3, 4, 5, 6])\n",
    "\n",
    "# Split arrays\n",
    "arr = np.array([1, 2, 3, 4, 5, 6])\n",
    "arr1, arr2 = np.split(arr, 2) # array([1, 2, 3]), array([4, 5, 6])\n"
   ]
  },
  {
   "cell_type": "markdown",
   "id": "696f6b1f",
   "metadata": {},
   "source": [
    "# Linear Algebra:"
   ]
  },
  {
   "cell_type": "code",
   "execution_count": null,
   "id": "31920ec8",
   "metadata": {},
   "outputs": [],
   "source": [
    "# Matrix multiplication\n",
    "a = np.array([[1, 2], [3, 4]])\n",
    "b = np.array([[5, 6], [7, 8]])\n",
    "c = np.dot(a, b) # array([[19, 22], [43, 50]])\n",
    "\n",
    "# Matrix inversion\n",
    "a = np.array([[1, 2], [3, 4]])\n",
    "a_inv = np.linalg.inv(a) # array([[-2. ,  1. ], [ 1.5, -0.5]])\n",
    "\n",
    "# Eigenvalues and eigenvectors\n",
    "a = np.array([[1, 2], [3, 4]])\n",
    "eig_vals, eig_vecs = np.linalg.eig(a)\n"
   ]
  },
  {
   "cell_type": "markdown",
   "id": "b407f175",
   "metadata": {},
   "source": [
    "# Other Functions:"
   ]
  },
  {
   "cell_type": "code",
   "execution_count": 49,
   "id": "1847b2bf",
   "metadata": {},
   "outputs": [
    {
     "ename": "TypeError",
     "evalue": "only integer scalar arrays can be converted to a scalar index",
     "output_type": "error",
     "traceback": [
      "\u001b[1;31m---------------------------------------------------------------------------\u001b[0m",
      "\u001b[1;31mTypeError\u001b[0m                                 Traceback (most recent call last)",
      "\u001b[1;32m~\\AppData\\Local\\Temp\\ipykernel_4772\\3553609427.py\u001b[0m in \u001b[0;36m<module>\u001b[1;34m\u001b[0m\n\u001b[0;32m      2\u001b[0m \u001b[0marr\u001b[0m \u001b[1;33m=\u001b[0m \u001b[0mnp\u001b[0m\u001b[1;33m.\u001b[0m\u001b[0marray\u001b[0m\u001b[1;33m(\u001b[0m\u001b[1;33m[\u001b[0m\u001b[1;36m1\u001b[0m\u001b[1;33m,\u001b[0m \u001b[1;36m2\u001b[0m\u001b[1;33m,\u001b[0m \u001b[1;36m3\u001b[0m\u001b[1;33m,\u001b[0m \u001b[1;36m4\u001b[0m\u001b[1;33m,\u001b[0m \u001b[1;36m5\u001b[0m\u001b[1;33m]\u001b[0m\u001b[1;33m)\u001b[0m\u001b[1;33m\u001b[0m\u001b[1;33m\u001b[0m\u001b[0m\n\u001b[0;32m      3\u001b[0m \u001b[0mmask\u001b[0m \u001b[1;33m=\u001b[0m \u001b[0marr\u001b[0m \u001b[1;33m>\u001b[0m \u001b[1;36m3\u001b[0m \u001b[1;31m# array([False, False, False,  True,  True])\u001b[0m\u001b[1;33m\u001b[0m\u001b[1;33m\u001b[0m\u001b[0m\n\u001b[1;32m----> 4\u001b[1;33m \u001b[1;32mfor\u001b[0m \u001b[0mi\u001b[0m \u001b[1;32min\u001b[0m \u001b[0mrange\u001b[0m\u001b[1;33m(\u001b[0m\u001b[0mmask\u001b[0m\u001b[1;33m)\u001b[0m\u001b[1;33m:\u001b[0m\u001b[1;33m\u001b[0m\u001b[1;33m\u001b[0m\u001b[0m\n\u001b[0m\u001b[0;32m      5\u001b[0m     \u001b[0mmask\u001b[0m\u001b[1;33m[\u001b[0m\u001b[0mi\u001b[0m\u001b[1;33m]\u001b[0m \u001b[1;33m=\u001b[0m \u001b[0mint\u001b[0m\u001b[1;33m(\u001b[0m\u001b[0mmask\u001b[0m\u001b[1;33m[\u001b[0m\u001b[0mi\u001b[0m\u001b[1;33m]\u001b[0m\u001b[1;33m)\u001b[0m\u001b[1;33m\u001b[0m\u001b[1;33m\u001b[0m\u001b[0m\n\u001b[0;32m      6\u001b[0m \u001b[1;33m\u001b[0m\u001b[0m\n",
      "\u001b[1;31mTypeError\u001b[0m: only integer scalar arrays can be converted to a scalar index"
     ]
    }
   ],
   "source": [
    "# Boolean arrays\n",
    "arr = np.array([1, 2, 3, 4, 5])\n",
    "mask = arr > 3 # array([False, False, False,  True,  True])\n",
    "\n",
    "# Indexing with boolean arrays\n",
    "arr = np.array([1, 2, 3, 4, 5])\n",
    "mask = arr > 3 # array([False, False, False,  True,  True])\n",
    "arr[mask] # array([4, 5])\n",
    "\n",
    "# Sorting\n",
    "arr = np.array([3, 1, 4, 1, 5, 9, 2])\n",
    "np.sort(arr) # array([1, 1, 2, 3, 4, 5, 9])\n"
   ]
  }
 ],
 "metadata": {
  "kernelspec": {
   "display_name": "Python 3 (ipykernel)",
   "language": "python",
   "name": "python3"
  },
  "language_info": {
   "codemirror_mode": {
    "name": "ipython",
    "version": 3
   },
   "file_extension": ".py",
   "mimetype": "text/x-python",
   "name": "python",
   "nbconvert_exporter": "python",
   "pygments_lexer": "ipython3",
   "version": "3.9.13"
  }
 },
 "nbformat": 4,
 "nbformat_minor": 5
}
