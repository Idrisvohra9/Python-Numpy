{
 "cells": [
  {
   "cell_type": "code",
   "execution_count": 7,
   "id": "5dcb91db",
   "metadata": {},
   "outputs": [
    {
     "name": "stdout",
     "output_type": "stream",
     "text": [
      "Mean:  22.0\n",
      "Median:  20.0\n",
      "Mode:  10\n",
      "Standard Deviation:  11.661903789690601\n",
      "Correaltion Coeficient:  1.0\n"
     ]
    }
   ],
   "source": [
    "# Finding mean, median, mode, standard deviation and correaltion cooefcients\n",
    "import numpy as np\n",
    "\n",
    "a = np.array([10,20,30,10,40])\n",
    "\n",
    "print(\"Mean: \",np.mean(a))# Average\n",
    "\n",
    "print(\"Median: \",np.median(a))# Middle value after arranging in ascending order\n",
    "\n",
    "print(\"Mode: \",np.argmax(np.bincount(a.astype(int))))# argmax returns the index of maximum value in an np array, \n",
    "# Mode means the frequently repeating value\n",
    "\n",
    "print(\"Standard Deviation: \",np.std(a)) # \n",
    "\n",
    "print(\"Correaltion Coeficient: \",np.corrcoef(a))"
   ]
  }
 ],
 "metadata": {
  "kernelspec": {
   "display_name": "Python 3 (ipykernel)",
   "language": "python",
   "name": "python3"
  },
  "language_info": {
   "codemirror_mode": {
    "name": "ipython",
    "version": 3
   },
   "file_extension": ".py",
   "mimetype": "text/x-python",
   "name": "python",
   "nbconvert_exporter": "python",
   "pygments_lexer": "ipython3",
   "version": "3.9.13"
  }
 },
 "nbformat": 4,
 "nbformat_minor": 5
}
