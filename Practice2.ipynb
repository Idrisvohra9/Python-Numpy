{
 "cells": [
  {
   "cell_type": "code",
   "execution_count": 36,
   "id": "a8e16433",
   "metadata": {},
   "outputs": [
    {
     "name": "stdout",
     "output_type": "stream",
     "text": [
      "Mean:  22.0\n",
      "Median:  20.0\n",
      "Mode:  10\n",
      "Standard Deviation:  11.661903789690601\n",
      "44.0\n"
     ]
    }
   ],
   "source": [
    "# Finding mean, median, mode, standard deviation and correaltion cooeficient\n",
    "import numpy as np\n",
    "import math\n",
    "a = np.array([10,20,30,10,40])\n",
    "\n",
    "print(\"Mean: \",np.mean(a))# Average\n",
    "\n",
    "print(\"Median: \",np.median(a))# Middle value after arranging in ascending order\n",
    "\n",
    "print(\"Mode: \",np.argmax(np.bincount(a.astype(int))))# argmax returns the index of maximum value in an np array, \n",
    "# Mode means the frequently repeating value\n",
    "\n",
    "print(\"Standard Deviation: \",np.std(a)) \n",
    "# standard deviation is a quantity expressing by how much the members of a group differ from the mean value for the group.\n",
    "# print(a.size ** 2)\n",
    "# sd = 0\n",
    "# for i in range(a.size):\n",
    "#     sd += math.sqrt(((a[i] - np.mean(a)) ** 2)/a.size)\n",
    "# print(sd/2)\n",
    "print(math.sqrt((np.sum(a)**2/a.size)-(np.sum(a)/a.size)**2))\n",
    "# "
   ]
  }
 ],
 "metadata": {
  "kernelspec": {
   "display_name": "Python 3 (ipykernel)",
   "language": "python",
   "name": "python3"
  },
  "language_info": {
   "codemirror_mode": {
    "name": "ipython",
    "version": 3
   },
   "file_extension": ".py",
   "mimetype": "text/x-python",
   "name": "python",
   "nbconvert_exporter": "python",
   "pygments_lexer": "ipython3",
   "version": "3.9.13"
  }
 },
 "nbformat": 4,
 "nbformat_minor": 5
}
