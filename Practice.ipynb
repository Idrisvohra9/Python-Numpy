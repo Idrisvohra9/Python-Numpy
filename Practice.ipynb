{
 "cells": [
  {
   "cell_type": "code",
   "execution_count": 170,
   "id": "531f3e05",
   "metadata": {},
   "outputs": [
    {
     "name": "stdout",
     "output_type": "stream",
     "text": [
      "[[1 5 1]\n",
      " [5 4 1]\n",
      " [1 5 5]\n",
      " [1 5 2]\n",
      " [1 4 1]\n",
      " [1 2 5]]\n",
      "50\n",
      "[[ 5 10  5]\n",
      " [20  4  2]\n",
      " [ 2 20 15]\n",
      " [ 1  5  6]\n",
      " [ 4 20  5]\n",
      " [ 1 10 15]]\n"
     ]
    }
   ],
   "source": [
    "import numpy as np\n",
    "Z = np.random.randint(1,6,(6,3))\n",
    "Z2 = np.random.randint(1,6,(6,3))\n",
    "\n",
    "print(Z)\n",
    "print(np.sum(Z))\n",
    "print(Z*Z2)"
   ]
  },
  {
   "cell_type": "code",
   "execution_count": 202,
   "id": "cc300ba4",
   "metadata": {
    "scrolled": false
   },
   "outputs": [
    {
     "name": "stdout",
     "output_type": "stream",
     "text": [
      "[[4 1 3]\n",
      " [3 2 4]\n",
      " [4 1 1]\n",
      " [4 1 3]\n",
      " [3 2 1]\n",
      " [2 2 4]\n",
      " [3 2 4]\n",
      " [2 2 3]\n",
      " [3 1 1]]\n",
      "\n",
      "[[1 3 4]\n",
      " [2 4 3]\n",
      " [1 1 4]\n",
      " [1 3 4]\n",
      " [2 1 3]\n",
      " [2 4 2]\n",
      " [2 4 3]\n",
      " [2 3 2]\n",
      " [1 1 1]\n",
      " [1 1 3]]\n"
     ]
    },
    {
     "data": {
      "text/plain": [
       "array([[4, 1, 3],\n",
       "       [3, 2, 4],\n",
       "       [4, 1, 1],\n",
       "       [4, 1, 3],\n",
       "       [3, 2, 1],\n",
       "       [2, 2, 4],\n",
       "       [3, 2, 4],\n",
       "       [2, 2, 3],\n",
       "       [1, 1, 1],\n",
       "       [3, 1, 1]])"
      ]
     },
     "metadata": {},
     "output_type": "display_data"
    },
    {
     "name": "stdout",
     "output_type": "stream",
     "text": [
      "[4 2 1]\n",
      "[[[3 5 5 5]\n",
      "  [4 5 1 3]\n",
      "  [4 3 1 3]\n",
      "  [3 5 3 2]]\n",
      "\n",
      " [[1 4 1 2]\n",
      "  [4 4 5 2]\n",
      "  [5 5 4 3]\n",
      "  [2 5 1 2]]\n",
      "\n",
      " [[3 3 5 5]\n",
      "  [2 3 4 3]\n",
      "  [4 4 2 1]\n",
      "  [5 4 2 2]]\n",
      "\n",
      " [[5 3 5 5]\n",
      "  [1 2 5 5]\n",
      "  [1 5 5 5]\n",
      "  [1 1 4 5]]]\n"
     ]
    },
    {
     "ename": "ValueError",
     "evalue": "Input must be 1- or 2-d.",
     "output_type": "error",
     "traceback": [
      "\u001b[1;31m---------------------------------------------------------------------------\u001b[0m",
      "\u001b[1;31mValueError\u001b[0m                                Traceback (most recent call last)",
      "\u001b[1;32m~\\AppData\\Local\\Temp\\ipykernel_10076\\531217581.py\u001b[0m in \u001b[0;36m<module>\u001b[1;34m\u001b[0m\n\u001b[0;32m     20\u001b[0m \u001b[0msquare\u001b[0m \u001b[1;33m=\u001b[0m \u001b[0mnp\u001b[0m\u001b[1;33m.\u001b[0m\u001b[0mrandom\u001b[0m\u001b[1;33m.\u001b[0m\u001b[0mrandint\u001b[0m\u001b[1;33m(\u001b[0m\u001b[1;36m1\u001b[0m\u001b[1;33m,\u001b[0m\u001b[1;36m6\u001b[0m\u001b[1;33m,\u001b[0m\u001b[1;33m(\u001b[0m\u001b[1;36m4\u001b[0m\u001b[1;33m,\u001b[0m\u001b[1;36m4\u001b[0m\u001b[1;33m,\u001b[0m\u001b[1;36m4\u001b[0m\u001b[1;33m)\u001b[0m\u001b[1;33m)\u001b[0m\u001b[1;33m\u001b[0m\u001b[1;33m\u001b[0m\u001b[0m\n\u001b[0;32m     21\u001b[0m \u001b[0mprint\u001b[0m\u001b[1;33m(\u001b[0m\u001b[0msquare\u001b[0m\u001b[1;33m)\u001b[0m\u001b[1;33m\u001b[0m\u001b[1;33m\u001b[0m\u001b[0m\n\u001b[1;32m---> 22\u001b[1;33m \u001b[0mprint\u001b[0m\u001b[1;33m(\u001b[0m\u001b[0mnp\u001b[0m\u001b[1;33m.\u001b[0m\u001b[0mdiag\u001b[0m\u001b[1;33m(\u001b[0m\u001b[0msquare\u001b[0m\u001b[1;33m)\u001b[0m\u001b[1;33m)\u001b[0m\u001b[1;33m\u001b[0m\u001b[1;33m\u001b[0m\u001b[0m\n\u001b[0m",
      "\u001b[1;32m<__array_function__ internals>\u001b[0m in \u001b[0;36mdiag\u001b[1;34m(*args, **kwargs)\u001b[0m\n",
      "\u001b[1;32m~\\anaconda3\\lib\\site-packages\\numpy\\lib\\twodim_base.py\u001b[0m in \u001b[0;36mdiag\u001b[1;34m(v, k)\u001b[0m\n\u001b[0;32m    301\u001b[0m         \u001b[1;32mreturn\u001b[0m \u001b[0mdiagonal\u001b[0m\u001b[1;33m(\u001b[0m\u001b[0mv\u001b[0m\u001b[1;33m,\u001b[0m \u001b[0mk\u001b[0m\u001b[1;33m)\u001b[0m\u001b[1;33m\u001b[0m\u001b[1;33m\u001b[0m\u001b[0m\n\u001b[0;32m    302\u001b[0m     \u001b[1;32melse\u001b[0m\u001b[1;33m:\u001b[0m\u001b[1;33m\u001b[0m\u001b[1;33m\u001b[0m\u001b[0m\n\u001b[1;32m--> 303\u001b[1;33m         \u001b[1;32mraise\u001b[0m \u001b[0mValueError\u001b[0m\u001b[1;33m(\u001b[0m\u001b[1;34m\"Input must be 1- or 2-d.\"\u001b[0m\u001b[1;33m)\u001b[0m\u001b[1;33m\u001b[0m\u001b[1;33m\u001b[0m\u001b[0m\n\u001b[0m\u001b[0;32m    304\u001b[0m \u001b[1;33m\u001b[0m\u001b[0m\n\u001b[0;32m    305\u001b[0m \u001b[1;33m\u001b[0m\u001b[0m\n",
      "\u001b[1;31mValueError\u001b[0m: Input must be 1- or 2-d."
     ]
    }
   ],
   "source": [
    "# Considering a 10x3 matrix, extract rows with unequal values (e.g. [2,2,3])\n",
    "\n",
    "\n",
    "matrix = np.random.randint(1,5,(10,3))\n",
    "# print(matrix)\n",
    "# The hard way:\n",
    "E = np.all(matrix[:,1:] == matrix[:,:-1], axis=1)\n",
    "U = matrix[~E]\n",
    "# print(U)\n",
    "# soluiton for numerical arrays only, will work for any number of columns in Z\n",
    "U = matrix[matrix.max(axis=1) != matrix.min(axis=1),:]\n",
    "print(U)\n",
    "\n",
    "# The easy way to find unique values \n",
    "print()\n",
    "unique = np.unique(matrix, axis=1)\n",
    "print(unique)\n",
    "display(matrix)\n",
    "print(np.diagonal(matrix))\n",
    "square = np.random.randint(1,6,(4,4,4))\n",
    "print(square)\n",
    "print(np.diag(square))"
   ]
  },
  {
   "cell_type": "code",
   "execution_count": 203,
   "id": "f3816450",
   "metadata": {},
   "outputs": [
    {
     "name": "stdout",
     "output_type": "stream",
     "text": [
      "1\n"
     ]
    }
   ],
   "source": [
    "# Find the most frequent value:\n",
    "Z = np.random.randint(0,10,50)\n",
    "print(np.bincount(Z).argmax())"
   ]
  },
  {
   "cell_type": "code",
   "execution_count": null,
   "id": "25031af4",
   "metadata": {},
   "outputs": [],
   "source": []
  }
 ],
 "metadata": {
  "kernelspec": {
   "display_name": "Python 3 (ipykernel)",
   "language": "python",
   "name": "python3"
  },
  "language_info": {
   "codemirror_mode": {
    "name": "ipython",
    "version": 3
   },
   "file_extension": ".py",
   "mimetype": "text/x-python",
   "name": "python",
   "nbconvert_exporter": "python",
   "pygments_lexer": "ipython3",
   "version": "3.9.13"
  }
 },
 "nbformat": 4,
 "nbformat_minor": 5
}
